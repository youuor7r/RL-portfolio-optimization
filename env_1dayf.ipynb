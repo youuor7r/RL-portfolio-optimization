{
 "cells": [
  {
   "cell_type": "code",
   "execution_count": null,
   "metadata": {},
   "outputs": [],
   "source": [
    "import torch\n",
    "import numpy as np\n",
    "import pandas as pd\n",
    "import gymnasium as gym\n",
    "from gymnasium.envs.registration import register\n",
    "from stable_baselines3 import PPO\n",
    "from stable_baselines3.common.env_util import make_vec_env"
   ]
  },
  {
   "cell_type": "code",
   "execution_count": null,
   "metadata": {},
   "outputs": [],
   "source": [
    "class PortfolioOptimization(gym.Env):\n",
    "    def __init__(self, data, n_steps):\n",
    "        super(PortfolioOptimization, self).__init__()\n",
    "        self.data = data\n",
    "        self.n_steps = n_steps\n",
    "        self.current_step = 0\n",
    "        self.observation_space = gym.spaces.Box(low=-np.inf, high=np.inf, shape=(205,), dtype=np.float32)\n",
    "        self.action_space = gym.spaces.Box(low=0, high=1, shape=(200,), dtype=np.float32)\n",
    "\n",
    "    def step(self, action):\n",
    "        action = action / np.sum(action)\n",
    "        \n",
    "        self.current_step += 1\n",
    "        if self.current_step >= len(self.data): \n",
    "            done = True\n",
    "            self.current_step = 0\n",
    "        else:\n",
    "            done = False\n",
    "\n",
    "        next_state = self.data[self.current_step]\n",
    "        reward = self.calculate_reward(action, next_state)\n",
    "        print(reward)\n",
    "\n",
    "        return next_state, reward, done, False, {}\n",
    "\n",
    "    # Reset to the initial state\n",
    "    def reset(self, **kwargs):\n",
    "        seed = kwargs.get('seed', None)\n",
    "        if seed is not None:\n",
    "            np.random.seed(seed)\n",
    "        self.current_step = np.random.randint(len(self.data) - self.n_steps)\n",
    "        observation = self.data[self.current_step]\n",
    "\n",
    "        if not self.observation_space.contains(observation):\n",
    "            raise ValueError(\"Observation is not within the observation space.\")\n",
    "\n",
    "        return observation, {}\n",
    "    \n",
    "    # Put reward as a sharpe ratio : (expected return - riskfree rate) / standard deviation  \n",
    "    def calculate_reward(self, action, state):\n",
    "        return np.dot(action, state[4:-1])"
   ]
  },
  {
   "cell_type": "code",
   "execution_count": null,
   "metadata": {},
   "outputs": [],
   "source": [
    "# Register the custom environment to gym\n",
    "register(\n",
    "    id='PO-v0',\n",
    "    entry_point = PortfolioOptimization,\n",
    "    kwargs = {'data': data, 'n_steps': 512}\n",
    ")\n"
   ]
  },
  {
   "cell_type": "code",
   "execution_count": null,
   "metadata": {},
   "outputs": [],
   "source": [
    "# Parallel environments\n",
    "vec_env = make_vec_env(\"PO-v0\", n_envs=10)\n",
    "\n",
    "model = PPO(\"MlpPolicy\", vec_env, verbose=1, n_steps=512, device=\"cuda\" if torch.cuda.is_available() else \"cpu\")\n",
    "model.learn(total_timesteps=20)\n",
    "model.save(\"ppo_PO\")\n",
    "\n",
    "del model # remove to demonstrate saving and loading\n",
    "\n",
    "model = PPO.load(\"ppo_PO\")\n",
    "\n",
    "obs = vec_env.reset()\n",
    "while True:\n",
    "    action, _states = model.predict(obs)\n",
    "    obs, rewards, dones, info = vec_env.step(action)\n"
   ]
  }
 ],
 "metadata": {
  "language_info": {
   "name": "python"
  }
 },
 "nbformat": 4,
 "nbformat_minor": 2
}
